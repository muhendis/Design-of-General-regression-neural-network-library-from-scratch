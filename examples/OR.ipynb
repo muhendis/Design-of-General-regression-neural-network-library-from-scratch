{
 "cells": [
  {
   "cell_type": "markdown",
   "metadata": {},
   "source": [
    "# OR example "
   ]
  },
  {
   "cell_type": "code",
   "execution_count": 1,
   "metadata": {},
   "outputs": [],
   "source": [
    "import numpy as np\n",
    "import pandas as pd\n",
    "from GeneralizedRegressionNeuralNetworks import GeneralizedRegressionNeuralNetworks"
   ]
  },
  {
   "cell_type": "code",
   "execution_count": 2,
   "metadata": {},
   "outputs": [],
   "source": [
    "\n",
    "train_x = np.array([[0,0],\n",
    "                    [0,1],\n",
    "                    [1,1]])\n",
    "\n",
    "train_y = np.array([0,1,1]).T\n",
    "\n",
    "test_x = np.array([[1,0]])\n",
    "\n",
    "test_y = np.array([1]).T\n"
   ]
  },
  {
   "cell_type": "code",
   "execution_count": 3,
   "metadata": {},
   "outputs": [],
   "source": [
    "model = GeneralizedRegressionNeuralNetworks.GRNN(train_x,train_y,test_x,test_y)"
   ]
  },
  {
   "cell_type": "code",
   "execution_count": 4,
   "metadata": {},
   "outputs": [
    {
     "name": "stdout",
     "output_type": "stream",
     "text": [
      "Output                                 : [0.61634827]\n",
      "Std                                    : [[1. 1. 1.]]\n",
      "MSE                                    : [0.14718865]\n"
     ]
    }
   ],
   "source": [
    "print('Output                                 :',model.predict())\n",
    "print('Std                                    :',model.std)\n",
    "print('MSE                                    :',model.mean_squared_error())"
   ]
  },
  {
   "cell_type": "markdown",
   "metadata": {},
   "source": [
    "**If you want, you can set a separate std for each of the neurons (ie elements of the train data set).**"
   ]
  },
  {
   "cell_type": "code",
   "execution_count": 5,
   "metadata": {},
   "outputs": [],
   "source": [
    "model_2 = GeneralizedRegressionNeuralNetworks.GRNN(train_x,train_y,test_x,test_y)"
   ]
  },
  {
   "cell_type": "code",
   "execution_count": 6,
   "metadata": {},
   "outputs": [],
   "source": [
    "model_2.std =np.array([[1, 0.05 , 1]])"
   ]
  },
  {
   "cell_type": "code",
   "execution_count": 7,
   "metadata": {},
   "outputs": [
    {
     "name": "stdout",
     "output_type": "stream",
     "text": [
      "Output                                 : [0.72562181]\n",
      "Std                                    : [[1.   0.05 1.  ]]\n",
      "MSE                                    : [0.07528339]\n"
     ]
    }
   ],
   "source": [
    "print('Output                                 :',model_2.predict())\n",
    "print('Std                                    :',model_2.std)\n",
    "print('MSE                                    :',model_2.mean_squared_error())"
   ]
  },
  {
   "cell_type": "markdown",
   "metadata": {},
   "source": [
    "**If the optimum std is set, the success of the model increases. (as in the example above)**"
   ]
  }
 ],
 "metadata": {
  "kernelspec": {
   "display_name": "Python 3",
   "language": "python",
   "name": "python3"
  },
  "language_info": {
   "codemirror_mode": {
    "name": "ipython",
    "version": 3
   },
   "file_extension": ".py",
   "mimetype": "text/x-python",
   "name": "python",
   "nbconvert_exporter": "python",
   "pygments_lexer": "ipython3",
   "version": "3.6.5"
  }
 },
 "nbformat": 4,
 "nbformat_minor": 2
}
