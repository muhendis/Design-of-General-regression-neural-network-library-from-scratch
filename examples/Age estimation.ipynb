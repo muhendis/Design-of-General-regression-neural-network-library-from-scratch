{
 "cells": [
  {
   "cell_type": "markdown",
   "metadata": {},
   "source": [
    "# Age estimation using weight and height in the baby boy dataset"
   ]
  },
  {
   "cell_type": "code",
   "execution_count": 1,
   "metadata": {},
   "outputs": [],
   "source": [
    "import numpy as np\n",
    "import pandas as pd\n",
    "from sklearn.model_selection import train_test_split\n",
    "from GeneralizedRegressionNeuralNetworks import GRNN"
   ]
  },
  {
   "cell_type": "markdown",
   "metadata": {},
   "source": [
    "### Create Baby boy data"
   ]
  },
  {
   "cell_type": "code",
   "execution_count": 2,
   "metadata": {},
   "outputs": [],
   "source": [
    "\n",
    "weight =[2.8, 3.8 , 4.3 , 5.6 ,6.2,6.4,7,7.4,7.65,7.9,8.1,8.3,8.5] #Baby boy weight from birth to 1 year old (mean)[1]\n",
    "weight = np.array(weight)\n",
    "\n",
    "boy =[45.7,52.7,56,59,61,63.5,65.1,66.6,68,69.5,70.5,71.5,73]#Baby boy size from birth to 1 year(mean)[1]\n",
    "boy=np.array(boy)\n"
   ]
  },
  {
   "cell_type": "code",
   "execution_count": 3,
   "metadata": {},
   "outputs": [
    {
     "data": {
      "text/plain": [
       "array([[ 2.8 , 45.7 ],\n",
       "       [ 3.8 , 52.7 ],\n",
       "       [ 4.3 , 56.  ],\n",
       "       [ 5.6 , 59.  ],\n",
       "       [ 6.2 , 61.  ],\n",
       "       [ 6.4 , 63.5 ],\n",
       "       [ 7.  , 65.1 ],\n",
       "       [ 7.4 , 66.6 ],\n",
       "       [ 7.65, 68.  ],\n",
       "       [ 7.9 , 69.5 ],\n",
       "       [ 8.1 , 70.5 ],\n",
       "       [ 8.3 , 71.5 ],\n",
       "       [ 8.5 , 73.  ]])"
      ]
     },
     "execution_count": 3,
     "metadata": {},
     "output_type": "execute_result"
    }
   ],
   "source": [
    "X = np.stack((weight, boy),axis=1)\n",
    "X"
   ]
  },
  {
   "cell_type": "code",
   "execution_count": 4,
   "metadata": {},
   "outputs": [
    {
     "data": {
      "text/plain": [
       "array([ 0,  1,  2,  3,  4,  5,  6,  7,  8,  9, 10, 11, 12])"
      ]
     },
     "execution_count": 4,
     "metadata": {},
     "output_type": "execute_result"
    }
   ],
   "source": [
    "age = np.arange(0,13,1)\n",
    "y = age\n",
    "y"
   ]
  },
  {
   "cell_type": "markdown",
   "metadata": {},
   "source": [
    "#### Split arrays or matrices into random train and test subsets\n"
   ]
  },
  {
   "cell_type": "code",
   "execution_count": 5,
   "metadata": {},
   "outputs": [],
   "source": [
    "X_train, X_test, y_train, y_test = train_test_split(X, y, test_size=0.33, random_state=42)"
   ]
  },
  {
   "cell_type": "code",
   "execution_count": 6,
   "metadata": {},
   "outputs": [
    {
     "data": {
      "text/plain": [
       "array([[ 4.3, 56. ],\n",
       "       [ 3.8, 52.7],\n",
       "       [ 8.5, 73. ],\n",
       "       [ 6.2, 61. ],\n",
       "       [ 7.4, 66.6],\n",
       "       [ 8.1, 70.5],\n",
       "       [ 5.6, 59. ],\n",
       "       [ 7. , 65.1]])"
      ]
     },
     "execution_count": 6,
     "metadata": {},
     "output_type": "execute_result"
    }
   ],
   "source": [
    "X_train"
   ]
  },
  {
   "cell_type": "code",
   "execution_count": 7,
   "metadata": {},
   "outputs": [
    {
     "data": {
      "text/plain": [
       "array([[ 8.3 , 71.5 ],\n",
       "       [ 7.9 , 69.5 ],\n",
       "       [ 2.8 , 45.7 ],\n",
       "       [ 7.65, 68.  ],\n",
       "       [ 6.4 , 63.5 ]])"
      ]
     },
     "execution_count": 7,
     "metadata": {},
     "output_type": "execute_result"
    }
   ],
   "source": [
    "X_test"
   ]
  },
  {
   "cell_type": "code",
   "execution_count": 8,
   "metadata": {},
   "outputs": [
    {
     "data": {
      "text/plain": [
       "array([ 2,  1, 12,  4,  7, 10,  3,  6])"
      ]
     },
     "execution_count": 8,
     "metadata": {},
     "output_type": "execute_result"
    }
   ],
   "source": [
    "y_train"
   ]
  },
  {
   "cell_type": "code",
   "execution_count": 9,
   "metadata": {},
   "outputs": [
    {
     "data": {
      "text/plain": [
       "array([11,  9,  0,  8,  5])"
      ]
     },
     "execution_count": 9,
     "metadata": {},
     "output_type": "execute_result"
    }
   ],
   "source": [
    "y_test"
   ]
  },
  {
   "cell_type": "markdown",
   "metadata": {},
   "source": [
    "### Create model"
   ]
  },
  {
   "cell_type": "code",
   "execution_count": 10,
   "metadata": {},
   "outputs": [],
   "source": [
    "model = GRNN(X_train,y_train,X_test,y_test)"
   ]
  },
  {
   "cell_type": "code",
   "execution_count": 11,
   "metadata": {},
   "outputs": [
    {
     "name": "stdout",
     "output_type": "stream",
     "text": [
      "Output                                 : [10.69727375  9.94091585  1.          7.25761362  5.71011515]\n",
      "MSE                                    : [0.01832864 0.17706453 0.2        0.11022751 0.10085271]\n"
     ]
    }
   ],
   "source": [
    "print('Output                                 :',model.predict())\n",
    "print('MSE                                    :',model.mean_squared_error())"
   ]
  },
  {
   "cell_type": "code",
   "execution_count": 12,
   "metadata": {},
   "outputs": [
    {
     "data": {
      "text/plain": [
       "array([[11.        , 10.69727375],\n",
       "       [ 9.        ,  9.94091585],\n",
       "       [ 0.        ,  1.        ],\n",
       "       [ 8.        ,  7.25761362],\n",
       "       [ 5.        ,  5.71011515]])"
      ]
     },
     "execution_count": 12,
     "metadata": {},
     "output_type": "execute_result"
    }
   ],
   "source": [
    "np.stack((y_test, model.predict()),axis=1)"
   ]
  },
  {
   "cell_type": "markdown",
   "metadata": {},
   "source": [
    "**Resource**"
   ]
  },
  {
   "cell_type": "markdown",
   "metadata": {},
   "source": [
    "[1] https://www.anneysen.com/ilk-yil/makale/bebek-gelisimi-bebeklerde-boy-kilo-nasil-olmali_11319"
   ]
  }
 ],
 "metadata": {
  "kernelspec": {
   "display_name": "Python 3",
   "language": "python",
   "name": "python3"
  },
  "language_info": {
   "codemirror_mode": {
    "name": "ipython",
    "version": 3
   },
   "file_extension": ".py",
   "mimetype": "text/x-python",
   "name": "python",
   "nbconvert_exporter": "python",
   "pygments_lexer": "ipython3",
   "version": "3.6.5"
  }
 },
 "nbformat": 4,
 "nbformat_minor": 2
}
